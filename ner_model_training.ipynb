{
 "cells": [
  {
   "cell_type": "code",
   "execution_count": 1,
   "metadata": {
    "_cell_guid": "b1076dfc-b9ad-4769-8c92-a6c4dae69d19",
    "_uuid": "8f2839f25d086af736a60e9eeb907d3b93b6e0e5",
    "execution": {
     "iopub.execute_input": "2025-03-12T14:51:02.196897Z",
     "iopub.status.busy": "2025-03-12T14:51:02.196622Z",
     "iopub.status.idle": "2025-03-12T14:51:28.995822Z",
     "shell.execute_reply": "2025-03-12T14:51:28.994886Z",
     "shell.execute_reply.started": "2025-03-12T14:51:02.196863Z"
    },
    "trusted": true
   },
   "outputs": [
    {
     "name": "stderr",
     "output_type": "stream",
     "text": [
      "c:\\Users\\Vijay\\Downloads\\sudar\\venv\\Lib\\site-packages\\tqdm\\auto.py:21: TqdmWarning: IProgress not found. Please update jupyter and ipywidgets. See https://ipywidgets.readthedocs.io/en/stable/user_install.html\n",
      "  from .autonotebook import tqdm as notebook_tqdm\n"
     ]
    }
   ],
   "source": [
    "import pandas as pd\n",
    "import matplotlib.pyplot as plt\n",
    "import seaborn as sns\n",
    "from collections import Counter\n",
    "import nltk\n",
    "from nltk.corpus import stopwords\n",
    "import torch\n",
    "from datasets import load_dataset\n",
    "from transformers import AutoTokenizer, AutoModelForTokenClassification, TrainingArguments, Trainer\n",
    "from accelerate import Accelerator\n",
    "import shutil\n",
    "from IPython.display import FileLink"
   ]
  },
  {
   "cell_type": "markdown",
   "metadata": {},
   "source": [
    "## Dataset loading"
   ]
  },
  {
   "cell_type": "code",
   "execution_count": 2,
   "metadata": {},
   "outputs": [
    {
     "name": "stderr",
     "output_type": "stream",
     "text": [
      "c:\\Users\\Vijay\\Downloads\\sudar\\venv\\Lib\\site-packages\\huggingface_hub\\file_download.py:142: UserWarning: `huggingface_hub` cache-system uses symlinks by default to efficiently store duplicated files but your machine does not support them in C:\\Users\\Vijay\\.cache\\huggingface\\hub\\datasets--conll2003. Caching files will still work but in a degraded version that might require more space on your disk. This warning can be disabled by setting the `HF_HUB_DISABLE_SYMLINKS_WARNING` environment variable. For more details, see https://huggingface.co/docs/huggingface_hub/how-to-cache#limitations.\n",
      "To support symlinks on Windows, you either need to activate Developer Mode or to run Python as an administrator. In order to activate developer mode, see this article: https://docs.microsoft.com/en-us/windows/apps/get-started/enable-your-device-for-development\n",
      "  warnings.warn(message)\n",
      "Downloading data: 100%|██████████| 983k/983k [00:01<00:00, 543kB/s] \n",
      "Generating train split: 100%|██████████| 14041/14041 [00:01<00:00, 10013.94 examples/s]\n",
      "Generating validation split: 100%|██████████| 3250/3250 [00:00<00:00, 11212.14 examples/s]\n",
      "Generating test split: 100%|██████████| 3453/3453 [00:00<00:00, 11466.28 examples/s]\n"
     ]
    }
   ],
   "source": [
    "# Load dataset and limit to 5000 rows\n",
    "dataset = load_dataset(\"conll2003\", trust_remote_code=True)\n",
    "small_train_dataset = dataset[\"train\"].select(range(5000))"
   ]
  },
  {
   "cell_type": "markdown",
   "metadata": {},
   "source": [
    "## Data Exploration"
   ]
  },
  {
   "cell_type": "code",
   "execution_count": 3,
   "metadata": {},
   "outputs": [],
   "source": [
    "# Convert to DataFrame\n",
    "df = pd.DataFrame({\n",
    "    \"tokens\": small_train_dataset[\"tokens\"],\n",
    "    \"ner_tags\": small_train_dataset[\"ner_tags\"],\n",
    "    \"pos_tags\": small_train_dataset[\"pos_tags\"],\n",
    "    \"chunk_tags\": small_train_dataset[\"chunk_tags\"]\n",
    "})\n"
   ]
  },
  {
   "cell_type": "code",
   "execution_count": 4,
   "metadata": {
    "execution": {
     "iopub.execute_input": "2025-03-12T14:51:35.179251Z",
     "iopub.status.busy": "2025-03-12T14:51:35.178954Z",
     "iopub.status.idle": "2025-03-12T14:51:35.208022Z",
     "shell.execute_reply": "2025-03-12T14:51:35.207277Z",
     "shell.execute_reply.started": "2025-03-12T14:51:35.179230Z"
    },
    "trusted": true
   },
   "outputs": [
    {
     "data": {
      "text/html": [
       "<div>\n",
       "<style scoped>\n",
       "    .dataframe tbody tr th:only-of-type {\n",
       "        vertical-align: middle;\n",
       "    }\n",
       "\n",
       "    .dataframe tbody tr th {\n",
       "        vertical-align: top;\n",
       "    }\n",
       "\n",
       "    .dataframe thead th {\n",
       "        text-align: right;\n",
       "    }\n",
       "</style>\n",
       "<table border=\"1\" class=\"dataframe\">\n",
       "  <thead>\n",
       "    <tr style=\"text-align: right;\">\n",
       "      <th></th>\n",
       "      <th>tokens</th>\n",
       "      <th>ner_tags</th>\n",
       "      <th>pos_tags</th>\n",
       "      <th>chunk_tags</th>\n",
       "    </tr>\n",
       "  </thead>\n",
       "  <tbody>\n",
       "    <tr>\n",
       "      <th>0</th>\n",
       "      <td>[EU, rejects, German, call, to, boycott, Briti...</td>\n",
       "      <td>[3, 0, 7, 0, 0, 0, 7, 0, 0]</td>\n",
       "      <td>[22, 42, 16, 21, 35, 37, 16, 21, 7]</td>\n",
       "      <td>[11, 21, 11, 12, 21, 22, 11, 12, 0]</td>\n",
       "    </tr>\n",
       "    <tr>\n",
       "      <th>1</th>\n",
       "      <td>[Peter, Blackburn]</td>\n",
       "      <td>[1, 2]</td>\n",
       "      <td>[22, 22]</td>\n",
       "      <td>[11, 12]</td>\n",
       "    </tr>\n",
       "    <tr>\n",
       "      <th>2</th>\n",
       "      <td>[BRUSSELS, 1996-08-22]</td>\n",
       "      <td>[5, 0]</td>\n",
       "      <td>[22, 11]</td>\n",
       "      <td>[11, 12]</td>\n",
       "    </tr>\n",
       "    <tr>\n",
       "      <th>3</th>\n",
       "      <td>[The, European, Commission, said, on, Thursday...</td>\n",
       "      <td>[0, 3, 4, 0, 0, 0, 0, 0, 0, 7, 0, 0, 0, 0, 0, ...</td>\n",
       "      <td>[12, 22, 22, 38, 15, 22, 28, 38, 15, 16, 21, 3...</td>\n",
       "      <td>[11, 12, 12, 21, 13, 11, 11, 21, 13, 11, 12, 1...</td>\n",
       "    </tr>\n",
       "    <tr>\n",
       "      <th>4</th>\n",
       "      <td>[Germany, 's, representative, to, the, Europea...</td>\n",
       "      <td>[5, 0, 0, 0, 0, 3, 4, 0, 0, 0, 1, 2, 0, 0, 0, ...</td>\n",
       "      <td>[22, 27, 21, 35, 12, 22, 22, 27, 16, 21, 22, 2...</td>\n",
       "      <td>[11, 11, 12, 13, 11, 12, 12, 11, 12, 12, 12, 1...</td>\n",
       "    </tr>\n",
       "  </tbody>\n",
       "</table>\n",
       "</div>"
      ],
      "text/plain": [
       "                                              tokens  \\\n",
       "0  [EU, rejects, German, call, to, boycott, Briti...   \n",
       "1                                 [Peter, Blackburn]   \n",
       "2                             [BRUSSELS, 1996-08-22]   \n",
       "3  [The, European, Commission, said, on, Thursday...   \n",
       "4  [Germany, 's, representative, to, the, Europea...   \n",
       "\n",
       "                                            ner_tags  \\\n",
       "0                        [3, 0, 7, 0, 0, 0, 7, 0, 0]   \n",
       "1                                             [1, 2]   \n",
       "2                                             [5, 0]   \n",
       "3  [0, 3, 4, 0, 0, 0, 0, 0, 0, 7, 0, 0, 0, 0, 0, ...   \n",
       "4  [5, 0, 0, 0, 0, 3, 4, 0, 0, 0, 1, 2, 0, 0, 0, ...   \n",
       "\n",
       "                                            pos_tags  \\\n",
       "0                [22, 42, 16, 21, 35, 37, 16, 21, 7]   \n",
       "1                                           [22, 22]   \n",
       "2                                           [22, 11]   \n",
       "3  [12, 22, 22, 38, 15, 22, 28, 38, 15, 16, 21, 3...   \n",
       "4  [22, 27, 21, 35, 12, 22, 22, 27, 16, 21, 22, 2...   \n",
       "\n",
       "                                          chunk_tags  \n",
       "0                [11, 21, 11, 12, 21, 22, 11, 12, 0]  \n",
       "1                                           [11, 12]  \n",
       "2                                           [11, 12]  \n",
       "3  [11, 12, 12, 21, 13, 11, 11, 21, 13, 11, 12, 1...  \n",
       "4  [11, 11, 12, 13, 11, 12, 12, 11, 12, 12, 12, 1...  "
      ]
     },
     "execution_count": 4,
     "metadata": {},
     "output_type": "execute_result"
    }
   ],
   "source": [
    "df.head()"
   ]
  },
  {
   "cell_type": "code",
   "execution_count": 5,
   "metadata": {
    "execution": {
     "iopub.execute_input": "2025-03-12T14:51:35.209943Z",
     "iopub.status.busy": "2025-03-12T14:51:35.209644Z",
     "iopub.status.idle": "2025-03-12T14:51:35.214548Z",
     "shell.execute_reply": "2025-03-12T14:51:35.213851Z",
     "shell.execute_reply.started": "2025-03-12T14:51:35.209921Z"
    },
    "trusted": true
   },
   "outputs": [
    {
     "data": {
      "text/plain": [
       "(5000, 4)"
      ]
     },
     "execution_count": 5,
     "metadata": {},
     "output_type": "execute_result"
    }
   ],
   "source": [
    "df.shape"
   ]
  },
  {
   "cell_type": "code",
   "execution_count": 6,
   "metadata": {
    "execution": {
     "iopub.execute_input": "2025-03-12T14:51:35.215433Z",
     "iopub.status.busy": "2025-03-12T14:51:35.215244Z",
     "iopub.status.idle": "2025-03-12T14:51:35.232034Z",
     "shell.execute_reply": "2025-03-12T14:51:35.231397Z",
     "shell.execute_reply.started": "2025-03-12T14:51:35.215417Z"
    },
    "trusted": true
   },
   "outputs": [
    {
     "data": {
      "text/plain": [
       "tokens        object\n",
       "ner_tags      object\n",
       "pos_tags      object\n",
       "chunk_tags    object\n",
       "dtype: object"
      ]
     },
     "execution_count": 6,
     "metadata": {},
     "output_type": "execute_result"
    }
   ],
   "source": [
    "df.dtypes"
   ]
  },
  {
   "cell_type": "code",
   "execution_count": 7,
   "metadata": {
    "execution": {
     "iopub.execute_input": "2025-03-12T14:51:35.232965Z",
     "iopub.status.busy": "2025-03-12T14:51:35.232742Z",
     "iopub.status.idle": "2025-03-12T14:51:45.563519Z",
     "shell.execute_reply": "2025-03-12T14:51:45.562764Z",
     "shell.execute_reply.started": "2025-03-12T14:51:35.232946Z"
    },
    "trusted": true
   },
   "outputs": [
    {
     "name": "stdout",
     "output_type": "stream",
     "text": [
      "                      tokens ner_tags  pos_tags chunk_tags\n",
      "count                   5000     5000      5000       5000\n",
      "unique                  4605     2164      3240       2802\n",
      "top     [LONDON, 1996-08-23]   [5, 0]  [22, 11]   [11, 12]\n",
      "freq                      14      233       170        318\n"
     ]
    }
   ],
   "source": [
    "print(df.describe(include='all'))"
   ]
  },
  {
   "cell_type": "code",
   "execution_count": 8,
   "metadata": {
    "execution": {
     "iopub.execute_input": "2025-03-12T14:51:45.564639Z",
     "iopub.status.busy": "2025-03-12T14:51:45.564367Z",
     "iopub.status.idle": "2025-03-12T14:51:45.572927Z",
     "shell.execute_reply": "2025-03-12T14:51:45.572157Z",
     "shell.execute_reply.started": "2025-03-12T14:51:45.564605Z"
    },
    "trusted": true
   },
   "outputs": [
    {
     "name": "stdout",
     "output_type": "stream",
     "text": [
      "tokens        0\n",
      "ner_tags      0\n",
      "pos_tags      0\n",
      "chunk_tags    0\n",
      "dtype: int64\n"
     ]
    }
   ],
   "source": [
    "print(df.isnull().sum())"
   ]
  },
  {
   "cell_type": "code",
   "execution_count": 9,
   "metadata": {
    "execution": {
     "iopub.execute_input": "2025-03-12T14:51:45.574182Z",
     "iopub.status.busy": "2025-03-12T14:51:45.573912Z",
     "iopub.status.idle": "2025-03-12T14:51:45.608091Z",
     "shell.execute_reply": "2025-03-12T14:51:45.607386Z",
     "shell.execute_reply.started": "2025-03-12T14:51:45.574150Z"
    },
    "trusted": true
   },
   "outputs": [
    {
     "name": "stdout",
     "output_type": "stream",
     "text": [
      "ner_tags\n",
      "0    55196\n",
      "5     2768\n",
      "1     2584\n",
      "3     2058\n",
      "2     1875\n",
      "7     1236\n",
      "4     1105\n",
      "8      455\n",
      "6      357\n",
      "Name: count, dtype: int64\n"
     ]
    }
   ],
   "source": [
    "print(df[\"ner_tags\"].explode().value_counts())"
   ]
  },
  {
   "cell_type": "code",
   "execution_count": 10,
   "metadata": {
    "execution": {
     "iopub.execute_input": "2025-03-12T14:51:45.609357Z",
     "iopub.status.busy": "2025-03-12T14:51:45.609026Z",
     "iopub.status.idle": "2025-03-12T14:51:45.629724Z",
     "shell.execute_reply": "2025-03-12T14:51:45.628820Z",
     "shell.execute_reply.started": "2025-03-12T14:51:45.609324Z"
    },
    "trusted": true
   },
   "outputs": [
    {
     "name": "stdout",
     "output_type": "stream",
     "text": [
      "count    5000.000000\n",
      "mean       13.526800\n",
      "std        11.246412\n",
      "min         1.000000\n",
      "25%         5.000000\n",
      "50%         9.000000\n",
      "75%        20.000000\n",
      "max        60.000000\n",
      "Name: tokens, dtype: float64\n"
     ]
    }
   ],
   "source": [
    "sentence_lengths = df[\"tokens\"].apply(len)\n",
    "print(sentence_lengths.describe())"
   ]
  },
  {
   "cell_type": "code",
   "execution_count": 11,
   "metadata": {
    "execution": {
     "iopub.execute_input": "2025-03-12T14:51:45.631005Z",
     "iopub.status.busy": "2025-03-12T14:51:45.630695Z",
     "iopub.status.idle": "2025-03-12T14:51:45.642407Z",
     "shell.execute_reply": "2025-03-12T14:51:45.641721Z",
     "shell.execute_reply.started": "2025-03-12T14:51:45.630976Z"
    },
    "trusted": true
   },
   "outputs": [
    {
     "name": "stdout",
     "output_type": "stream",
     "text": [
      "Sentence 1: EU rejects German call to boycott British lamb .\n",
      "NER Tags   : [3, 0, 7, 0, 0, 0, 7, 0, 0]\n",
      "--------------------------------------------------\n",
      "Sentence 2: Peter Blackburn\n",
      "NER Tags   : [1, 2]\n",
      "--------------------------------------------------\n",
      "Sentence 3: BRUSSELS 1996-08-22\n",
      "NER Tags   : [5, 0]\n",
      "--------------------------------------------------\n",
      "Sentence 4: The European Commission said on Thursday it disagreed with German advice to consumers to shun British lamb until scientists determine whether mad cow disease can be transmitted to sheep .\n",
      "NER Tags   : [0, 3, 4, 0, 0, 0, 0, 0, 0, 7, 0, 0, 0, 0, 0, 7, 0, 0, 0, 0, 0, 0, 0, 0, 0, 0, 0, 0, 0, 0]\n",
      "--------------------------------------------------\n",
      "Sentence 5: Germany 's representative to the European Union 's veterinary committee Werner Zwingmann said on Wednesday consumers should buy sheepmeat from countries other than Britain until the scientific advice was clearer .\n",
      "NER Tags   : [5, 0, 0, 0, 0, 3, 4, 0, 0, 0, 1, 2, 0, 0, 0, 0, 0, 0, 0, 0, 0, 0, 0, 5, 0, 0, 0, 0, 0, 0, 0]\n",
      "--------------------------------------------------\n"
     ]
    }
   ],
   "source": [
    "for i in range(5):\n",
    "    print(f\"Sentence {i+1}: {' '.join(df['tokens'][i])}\")\n",
    "    print(f\"NER Tags   : {df['ner_tags'][i]}\")\n",
    "    print(\"-\" * 50)\n"
   ]
  },
  {
   "cell_type": "markdown",
   "metadata": {},
   "source": [
    "## Data Visualization"
   ]
  },
  {
   "cell_type": "code",
   "execution_count": 12,
   "metadata": {
    "execution": {
     "iopub.execute_input": "2025-03-12T14:51:45.643240Z",
     "iopub.status.busy": "2025-03-12T14:51:45.643058Z",
     "iopub.status.idle": "2025-03-12T14:51:45.939342Z",
     "shell.execute_reply": "2025-03-12T14:51:45.938492Z",
     "shell.execute_reply.started": "2025-03-12T14:51:45.643224Z"
    },
    "trusted": true
   },
   "outputs": [
    {
     "data": {
      "image/png": "[encoded data removed]",
      "text/plain": [
       "<Figure size 1000x500 with 1 Axes>"
      ]
     },
     "metadata": {},
     "output_type": "display_data"
    }
   ],
   "source": [
    "# NER Tag distribution\n",
    "ner_tag_counts = Counter(tag for tags in df[\"ner_tags\"] for tag in tags)\n",
    "plt.figure(figsize=(10, 5))\n",
    "sns.barplot(x=list(ner_tag_counts.keys()), y=list(ner_tag_counts.values()))\n",
    "plt.xlabel(\"NER Tags\")\n",
    "plt.ylabel(\"Frequency\")\n",
    "plt.title(\"Distribution of NER Tags\")\n",
    "plt.show()"
   ]
  },
  {
   "cell_type": "markdown",
   "metadata": {},
   "source": [
    "## Tokenization & Preprocessing"
   ]
  },
  {
   "cell_type": "code",
   "execution_count": 13,
   "metadata": {
    "execution": {
     "iopub.execute_input": "2025-03-12T14:51:45.941745Z",
     "iopub.status.busy": "2025-03-12T14:51:45.941539Z",
     "iopub.status.idle": "2025-03-12T14:51:46.025879Z",
     "shell.execute_reply": "2025-03-12T14:51:46.024975Z",
     "shell.execute_reply.started": "2025-03-12T14:51:45.941727Z"
    },
    "trusted": true
   },
   "outputs": [
    {
     "name": "stderr",
     "output_type": "stream",
     "text": [
      "c:\\Users\\Vijay\\Downloads\\sudar\\venv\\Lib\\site-packages\\huggingface_hub\\file_download.py:142: UserWarning: `huggingface_hub` cache-system uses symlinks by default to efficiently store duplicated files but your machine does not support them in C:\\Users\\Vijay\\.cache\\huggingface\\hub\\models--bert-base-cased. Caching files will still work but in a degraded version that might require more space on your disk. This warning can be disabled by setting the `HF_HUB_DISABLE_SYMLINKS_WARNING` environment variable. For more details, see https://huggingface.co/docs/huggingface_hub/how-to-cache#limitations.\n",
      "To support symlinks on Windows, you either need to activate Developer Mode or to run Python as an administrator. In order to activate developer mode, see this article: https://docs.microsoft.com/en-us/windows/apps/get-started/enable-your-device-for-development\n",
      "  warnings.warn(message)\n"
     ]
    }
   ],
   "source": [
    "# Tokenizer\n",
    "tokenizer = AutoTokenizer.from_pretrained(\"bert-base-cased\")"
   ]
  },
  {
   "cell_type": "code",
   "execution_count": 14,
   "metadata": {
    "execution": {
     "iopub.execute_input": "2025-03-12T14:51:46.027529Z",
     "iopub.status.busy": "2025-03-12T14:51:46.027209Z",
     "iopub.status.idle": "2025-03-12T14:51:48.106412Z",
     "shell.execute_reply": "2025-03-12T14:51:48.105765Z",
     "shell.execute_reply.started": "2025-03-12T14:51:46.027498Z"
    },
    "trusted": true
   },
   "outputs": [],
   "source": [
    "# Label mapping\n",
    "label_list = dataset[\"train\"].features[\"ner_tags\"].feature.names\n",
    "label2id = {label: i for i, label in enumerate(label_list)}\n",
    "id2label = {i: label for label, i in label2id.items()}"
   ]
  },
  {
   "cell_type": "code",
   "execution_count": 15,
   "metadata": {
    "execution": {
     "iopub.execute_input": "2025-03-12T14:51:48.107444Z",
     "iopub.status.busy": "2025-03-12T14:51:48.107222Z",
     "iopub.status.idle": "2025-03-12T14:51:48.112381Z",
     "shell.execute_reply": "2025-03-12T14:51:48.111501Z",
     "shell.execute_reply.started": "2025-03-12T14:51:48.107425Z"
    },
    "trusted": true
   },
   "outputs": [],
   "source": [
    "# Tokenization function\n",
    "def tokenize_and_align_labels(examples):\n",
    "    tokenized_inputs = tokenizer(\n",
    "        examples[\"tokens\"], \n",
    "        truncation=True, \n",
    "        padding=\"max_length\",  # Ensures all sequences are the same length\n",
    "        max_length=128,  # Adjust max length based on your data\n",
    "        is_split_into_words=True\n",
    "    )\n",
    "\n",
    "    labels = []\n",
    "    for i, label in enumerate(examples[\"ner_tags\"]):\n",
    "        word_ids = tokenized_inputs.word_ids(batch_index=i)\n",
    "        label_ids = [-100 if word_id is None else label[word_id] for word_id in word_ids]\n",
    "        labels.append(label_ids)\n",
    "\n",
    "    tokenized_inputs[\"labels\"] = labels\n",
    "    return tokenized_inputs"
   ]
  },
  {
   "cell_type": "code",
   "execution_count": 16,
   "metadata": {
    "execution": {
     "iopub.execute_input": "2025-03-12T14:51:48.113557Z",
     "iopub.status.busy": "2025-03-12T14:51:48.113275Z",
     "iopub.status.idle": "2025-03-12T14:51:50.439679Z",
     "shell.execute_reply": "2025-03-12T14:51:50.439015Z",
     "shell.execute_reply.started": "2025-03-12T14:51:48.113536Z"
    },
    "trusted": true
   },
   "outputs": [
    {
     "name": "stderr",
     "output_type": "stream",
     "text": [
      "Map:   0%|          | 0/14041 [00:00<?, ? examples/s]"
     ]
    },
    {
     "name": "stderr",
     "output_type": "stream",
     "text": [
      "Map: 100%|██████████| 14041/14041 [00:02<00:00, 5955.58 examples/s]\n",
      "Map: 100%|██████████| 3250/3250 [00:00<00:00, 4644.64 examples/s]\n",
      "Map: 100%|██████████| 3453/3453 [00:00<00:00, 7441.75 examples/s]\n"
     ]
    }
   ],
   "source": [
    "# Apply tokenization with fix\n",
    "tokenized_dataset = dataset.map(tokenize_and_align_labels, batched=True).shuffle(seed=42)"
   ]
  },
  {
   "cell_type": "code",
   "execution_count": 17,
   "metadata": {
    "execution": {
     "iopub.execute_input": "2025-03-12T14:51:50.440640Z",
     "iopub.status.busy": "2025-03-12T14:51:50.440445Z",
     "iopub.status.idle": "2025-03-12T14:51:52.374268Z",
     "shell.execute_reply": "2025-03-12T14:51:52.373253Z",
     "shell.execute_reply.started": "2025-03-12T14:51:50.440624Z"
    },
    "trusted": true
   },
   "outputs": [],
   "source": [
    "# Splitting dataset\n",
    "train_dataset = tokenized_dataset[\"train\"]\n",
    "val_dataset = tokenized_dataset[\"validation\"]\n",
    "\n",
    "# Select first 5000 rows for faster training\n",
    "train_tokens = train_dataset.select(range(min(5000, len(train_dataset))))\n",
    "val_tokens = val_dataset.select(range(min(1000, len(val_dataset))))  # Use a smaller validation set\n"
   ]
  },
  {
   "cell_type": "code",
   "execution_count": 18,
   "metadata": {
    "execution": {
     "iopub.execute_input": "2025-03-12T14:51:52.375518Z",
     "iopub.status.busy": "2025-03-12T14:51:52.375208Z",
     "iopub.status.idle": "2025-03-12T14:51:54.777197Z",
     "shell.execute_reply": "2025-03-12T14:51:54.776542Z",
     "shell.execute_reply.started": "2025-03-12T14:51:52.375488Z"
    },
    "trusted": true
   },
   "outputs": [
    {
     "name": "stderr",
     "output_type": "stream",
     "text": [
      "Some weights of BertForTokenClassification were not initialized from the model checkpoint at bert-base-cased and are newly initialized: ['classifier.bias', 'classifier.weight']\n",
      "You should probably TRAIN this model on a down-stream task to be able to use it for predictions and inference.\n"
     ]
    }
   ],
   "source": [
    "# Load model\n",
    "model = AutoModelForTokenClassification.from_pretrained(\n",
    "    \"bert-base-cased\", num_labels=len(label_list), id2label=id2label, label2id=label2id\n",
    ")"
   ]
  },
  {
   "cell_type": "code",
   "execution_count": 19,
   "metadata": {
    "execution": {
     "iopub.execute_input": "2025-03-12T14:51:54.778227Z",
     "iopub.status.busy": "2025-03-12T14:51:54.778029Z"
    },
    "trusted": true
   },
   "outputs": [
    {
     "name": "stderr",
     "output_type": "stream",
     "text": [
      "c:\\Users\\Vijay\\Downloads\\sudar\\venv\\Lib\\site-packages\\transformers\\training_args.py:1594: FutureWarning: `evaluation_strategy` is deprecated and will be removed in version 4.46 of 🤗 Transformers. Use `eval_strategy` instead\n",
      "  warnings.warn(\n",
      "C:\\Users\\Vijay\\AppData\\Local\\Temp\\ipykernel_28972\\809739899.py:18: FutureWarning: `tokenizer` is deprecated and will be removed in version 5.0.0 for `Trainer.__init__`. Use `processing_class` instead.\n",
      "  trainer = Trainer(\n"
     ]
    },
    {
     "data": {
      "text/html": [
       "\n",
       "    <div>\n",
       "      \n",
       "      <progress value='626' max='626' style='width:300px; height:20px; vertical-align: middle;'></progress>\n",
       "      [626/626 1:06:27, Epoch 2/2]\n",
       "    </div>\n",
       "    <table border=\"1\" class=\"dataframe\">\n",
       "  <thead>\n",
       " <tr style=\"text-align: left;\">\n",
       "      <th>Epoch</th>\n",
       "      <th>Training Loss</th>\n",
       "      <th>Validation Loss</th>\n",
       "    </tr>\n",
       "  </thead>\n",
       "  <tbody>\n",
       "    <tr>\n",
       "      <td>1</td>\n",
       "      <td>No log</td>\n",
       "      <td>0.099076</td>\n",
       "    </tr>\n",
       "    <tr>\n",
       "      <td>2</td>\n",
       "      <td>0.196900</td>\n",
       "      <td>0.082575</td>\n",
       "    </tr>\n",
       "  </tbody>\n",
       "</table><p>"
      ],
      "text/plain": [
       "<IPython.core.display.HTML object>"
      ]
     },
     "metadata": {},
     "output_type": "display_data"
    },
    {
     "name": "stdout",
     "output_type": "stream",
     "text": [
      "Click the link below to download the trained model:\n"
     ]
    },
    {
     "data": {
      "text/html": [
       "<a href='./bert-ner-trained.zip' target='_blank'>./bert-ner-trained.zip</a><br>"
      ],
      "text/plain": [
       "c:\\Users\\Vijay\\Downloads\\sudar\\bert-ner-trained.zip"
      ]
     },
     "execution_count": 19,
     "metadata": {},
     "output_type": "execute_result"
    }
   ],
   "source": [
    "# Training arguments with optimizations\n",
    "training_args = TrainingArguments(\n",
    "    output_dir=\"./bert-ner\",\n",
    "    evaluation_strategy=\"epoch\",  \n",
    "    save_strategy=\"epoch\",\n",
    "    learning_rate=3e-5,  # Slightly lower LR for better convergence\n",
    "    per_device_train_batch_size=16,  # Smaller batch size for faster processing\n",
    "    per_device_eval_batch_size=16,\n",
    "    num_train_epochs=2,  # Fewer epochs\n",
    "    weight_decay=0.01,\n",
    "    fp16=True,  # Mixed precision for speed\n",
    "    logging_steps=500,  \n",
    "    gradient_accumulation_steps=1,  \n",
    "    save_total_limit=1,  # Keep only latest checkpoint\n",
    ")\n",
    "\n",
    "# Trainer\n",
    "trainer = Trainer(\n",
    "    model=model,\n",
    "    args=training_args,\n",
    "    train_dataset=train_tokens,\n",
    "    eval_dataset=val_tokens,\n",
    "    tokenizer=tokenizer\n",
    ")\n",
    "\n",
    "# Train model\n",
    "trainer.train()\n",
    "\n",
    "# Save trained model\n",
    "model_save_path = \"./bert-ner-trained\"\n",
    "trainer.save_model(model_save_path)\n",
    "\n",
    "# Zip the model directory for easier download\n",
    "shutil.make_archive(model_save_path, 'zip', model_save_path)\n",
    "\n",
    "# Provide a link to download the model\n",
    "print(\"Click the link below to download the trained model:\")\n",
    "FileLink(f\"{model_save_path}.zip\")\n"
   ]
  }
 ],
 "metadata": {
  "kaggle": {
   "accelerator": "gpu",
   "dataSources": [],
   "dockerImageVersionId": 30918,
   "isGpuEnabled": true,
   "isInternetEnabled": true,
   "language": "python",
   "sourceType": "notebook"
  },
  "kernelspec": {
   "display_name": "venv",
   "language": "python",
   "name": "python3"
  },
  "language_info": {
   "codemirror_mode": {
    "name": "ipython",
    "version": 3
   },
   "file_extension": ".py",
   "mimetype": "text/x-python",
   "name": "python",
   "nbconvert_exporter": "python",
   "pygments_lexer": "ipython3",
   "version": "3.12.6"
  }
 },
 "nbformat": 4,
 "nbformat_minor": 4
}
